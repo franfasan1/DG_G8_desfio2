{
 "cells": [
  {
   "cell_type": "markdown",
   "metadata": {},
   "source": [
    "# DESAFÍO N° 2 - MODELADO"
   ]
  },
  {
   "cell_type": "code",
   "execution_count": 1,
   "metadata": {},
   "outputs": [],
   "source": [
    "import pandas as pd\n",
    "import numpy as np\n",
    "import seaborn as sns\n",
    "\n",
    "from sklearn.linear_model import LinearRegression, LassoCV, RidgeCV, ElasticNetCV\n",
    "from sklearn.preprocessing import StandardScaler, OneHotEncoder, PolynomialFeatures\n",
    "from sklearn.metrics import r2_score\n",
    "from sklearn.model_selection import train_test_split, cross_val_score"
   ]
  },
  {
   "cell_type": "code",
   "execution_count": 21,
   "metadata": {},
   "outputs": [
    {
     "data": {
      "text/html": [
       "<div>\n",
       "<style scoped>\n",
       "    .dataframe tbody tr th:only-of-type {\n",
       "        vertical-align: middle;\n",
       "    }\n",
       "\n",
       "    .dataframe tbody tr th {\n",
       "        vertical-align: top;\n",
       "    }\n",
       "\n",
       "    .dataframe thead th {\n",
       "        text-align: right;\n",
       "    }\n",
       "</style>\n",
       "<table border=\"1\" class=\"dataframe\">\n",
       "  <thead>\n",
       "    <tr style=\"text-align: right;\">\n",
       "      <th></th>\n",
       "      <th>Unnamed: 0</th>\n",
       "      <th>tipo_prop</th>\n",
       "      <th>barrio</th>\n",
       "      <th>pais</th>\n",
       "      <th>lat</th>\n",
       "      <th>lon</th>\n",
       "      <th>precio_usd</th>\n",
       "      <th>piso</th>\n",
       "      <th>properati_url</th>\n",
       "      <th>ambientes</th>\n",
       "      <th>...</th>\n",
       "      <th>villa_crespo</th>\n",
       "      <th>hidromasaje</th>\n",
       "      <th>san_telmo</th>\n",
       "      <th>vista</th>\n",
       "      <th>sauna</th>\n",
       "      <th>losa_radiante</th>\n",
       "      <th>capital_federal</th>\n",
       "      <th>impecable</th>\n",
       "      <th>interwin</th>\n",
       "      <th>doble_circulacion</th>\n",
       "    </tr>\n",
       "  </thead>\n",
       "  <tbody>\n",
       "    <tr>\n",
       "      <th>27865</th>\n",
       "      <td>27865</td>\n",
       "      <td>apartment</td>\n",
       "      <td>Recoleta</td>\n",
       "      <td>Argentina</td>\n",
       "      <td>-34.588700</td>\n",
       "      <td>-58.397230</td>\n",
       "      <td>118000.00</td>\n",
       "      <td>1.0</td>\n",
       "      <td>http://www.properati.com.ar/1bvv4_venta_depart...</td>\n",
       "      <td>NaN</td>\n",
       "      <td>...</td>\n",
       "      <td>0</td>\n",
       "      <td>0</td>\n",
       "      <td>0</td>\n",
       "      <td>0</td>\n",
       "      <td>0</td>\n",
       "      <td>0</td>\n",
       "      <td>0</td>\n",
       "      <td>0</td>\n",
       "      <td>0</td>\n",
       "      <td>0</td>\n",
       "    </tr>\n",
       "    <tr>\n",
       "      <th>15991</th>\n",
       "      <td>15991</td>\n",
       "      <td>apartment</td>\n",
       "      <td>Villa Urquiza</td>\n",
       "      <td>Argentina</td>\n",
       "      <td>-34.570884</td>\n",
       "      <td>-58.488694</td>\n",
       "      <td>212900.00</td>\n",
       "      <td>0.0</td>\n",
       "      <td>http://www.properati.com.ar/19z8g_venta_depart...</td>\n",
       "      <td>3.0</td>\n",
       "      <td>...</td>\n",
       "      <td>0</td>\n",
       "      <td>0</td>\n",
       "      <td>0</td>\n",
       "      <td>0</td>\n",
       "      <td>0</td>\n",
       "      <td>0</td>\n",
       "      <td>0</td>\n",
       "      <td>0</td>\n",
       "      <td>0</td>\n",
       "      <td>0</td>\n",
       "    </tr>\n",
       "    <tr>\n",
       "      <th>19637</th>\n",
       "      <td>19637</td>\n",
       "      <td>apartment</td>\n",
       "      <td>Belgrano</td>\n",
       "      <td>Argentina</td>\n",
       "      <td>-34.562700</td>\n",
       "      <td>-58.458290</td>\n",
       "      <td>153302.87</td>\n",
       "      <td>NaN</td>\n",
       "      <td>http://www.properati.com.ar/1ao05_venta_depart...</td>\n",
       "      <td>2.0</td>\n",
       "      <td>...</td>\n",
       "      <td>0</td>\n",
       "      <td>0</td>\n",
       "      <td>0</td>\n",
       "      <td>0</td>\n",
       "      <td>0</td>\n",
       "      <td>0</td>\n",
       "      <td>0</td>\n",
       "      <td>0</td>\n",
       "      <td>0</td>\n",
       "      <td>0</td>\n",
       "    </tr>\n",
       "    <tr>\n",
       "      <th>17402</th>\n",
       "      <td>17402</td>\n",
       "      <td>store</td>\n",
       "      <td>Recoleta</td>\n",
       "      <td>Argentina</td>\n",
       "      <td>-34.592609</td>\n",
       "      <td>-58.401407</td>\n",
       "      <td>1450000.00</td>\n",
       "      <td>11.0</td>\n",
       "      <td>http://www.properati.com.ar/1abla_venta_local_...</td>\n",
       "      <td>1.0</td>\n",
       "      <td>...</td>\n",
       "      <td>0</td>\n",
       "      <td>0</td>\n",
       "      <td>0</td>\n",
       "      <td>0</td>\n",
       "      <td>0</td>\n",
       "      <td>0</td>\n",
       "      <td>0</td>\n",
       "      <td>0</td>\n",
       "      <td>1</td>\n",
       "      <td>0</td>\n",
       "    </tr>\n",
       "    <tr>\n",
       "      <th>905</th>\n",
       "      <td>905</td>\n",
       "      <td>apartment</td>\n",
       "      <td>Palermo Soho</td>\n",
       "      <td>Argentina</td>\n",
       "      <td>-34.588560</td>\n",
       "      <td>-58.430530</td>\n",
       "      <td>218000.00</td>\n",
       "      <td>NaN</td>\n",
       "      <td>http://www.properati.com.ar/15q8u_venta_depart...</td>\n",
       "      <td>2.0</td>\n",
       "      <td>...</td>\n",
       "      <td>0</td>\n",
       "      <td>0</td>\n",
       "      <td>0</td>\n",
       "      <td>0</td>\n",
       "      <td>0</td>\n",
       "      <td>0</td>\n",
       "      <td>0</td>\n",
       "      <td>0</td>\n",
       "      <td>0</td>\n",
       "      <td>0</td>\n",
       "    </tr>\n",
       "  </tbody>\n",
       "</table>\n",
       "<p>5 rows × 57 columns</p>\n",
       "</div>"
      ],
      "text/plain": [
       "       Unnamed: 0  tipo_prop         barrio       pais        lat        lon  \\\n",
       "27865       27865  apartment       Recoleta  Argentina -34.588700 -58.397230   \n",
       "15991       15991  apartment  Villa Urquiza  Argentina -34.570884 -58.488694   \n",
       "19637       19637  apartment       Belgrano  Argentina -34.562700 -58.458290   \n",
       "17402       17402      store       Recoleta  Argentina -34.592609 -58.401407   \n",
       "905           905  apartment   Palermo Soho  Argentina -34.588560 -58.430530   \n",
       "\n",
       "       precio_usd  piso                                      properati_url  \\\n",
       "27865   118000.00   1.0  http://www.properati.com.ar/1bvv4_venta_depart...   \n",
       "15991   212900.00   0.0  http://www.properati.com.ar/19z8g_venta_depart...   \n",
       "19637   153302.87   NaN  http://www.properati.com.ar/1ao05_venta_depart...   \n",
       "17402  1450000.00  11.0  http://www.properati.com.ar/1abla_venta_local_...   \n",
       "905     218000.00   NaN  http://www.properati.com.ar/15q8u_venta_depart...   \n",
       "\n",
       "       ambientes  ...  villa_crespo  hidromasaje  san_telmo  vista  sauna  \\\n",
       "27865        NaN  ...             0            0          0      0      0   \n",
       "15991        3.0  ...             0            0          0      0      0   \n",
       "19637        2.0  ...             0            0          0      0      0   \n",
       "17402        1.0  ...             0            0          0      0      0   \n",
       "905          2.0  ...             0            0          0      0      0   \n",
       "\n",
       "       losa_radiante capital_federal  impecable  interwin  doble_circulacion  \n",
       "27865              0               0          0         0                  0  \n",
       "15991              0               0          0         0                  0  \n",
       "19637              0               0          0         0                  0  \n",
       "17402              0               0          0         1                  0  \n",
       "905                0               0          0         0                  0  \n",
       "\n",
       "[5 rows x 57 columns]"
      ]
     },
     "execution_count": 21,
     "metadata": {},
     "output_type": "execute_result"
    }
   ],
   "source": [
    "data = pd.read_csv(\"salida_desafio_1.csv\")\n",
    "data.sample(5)"
   ]
  },
  {
   "cell_type": "markdown",
   "metadata": {},
   "source": [
    "## Reducción de volumen de datos\n",
    "\n",
    "Decidimos elegir como dataset de trabajo los barrios dentro de la Comuna 13: Belgrano, Nuñez y Colegiales\n",
    "\n",
    "Esta decisión la tomamos ya que es una de las comunas con mayor desarrollo inmobiliario en la CABA. Vamos a trabajar con 4122 datos de tres barrios porteños."
   ]
  },
  {
   "cell_type": "code",
   "execution_count": 22,
   "metadata": {},
   "outputs": [
    {
     "data": {
      "text/plain": [
       "(4122, 57)"
      ]
     },
     "execution_count": 22,
     "metadata": {},
     "output_type": "execute_result"
    }
   ],
   "source": [
    "data2 = data[(data.barrio == \"Belgrano\") | (data.barrio == \"Colegiales\") | (data.barrio == \"Nuñez\")]\n",
    "data2.shape"
   ]
  },
  {
   "cell_type": "markdown",
   "metadata": {},
   "source": [
    "## Preparación del DATASET"
   ]
  },
  {
   "cell_type": "code",
   "execution_count": 23,
   "metadata": {},
   "outputs": [
    {
     "name": "stderr",
     "output_type": "stream",
     "text": [
      "C:\\Users\\franf\\anaconda3\\envs\\dhdsblend_37\\lib\\site-packages\\pandas\\core\\frame.py:3997: SettingWithCopyWarning: \n",
      "A value is trying to be set on a copy of a slice from a DataFrame\n",
      "\n",
      "See the caveats in the documentation: https://pandas.pydata.org/pandas-docs/stable/user_guide/indexing.html#returning-a-view-versus-a-copy\n",
      "  errors=errors,\n"
     ]
    }
   ],
   "source": [
    "data2.sample(10)\n",
    "data2.columns\n",
    "\n",
    "data2.drop(['Unnamed: 0', 'pais', 'lat', 'lon', 'precio_usd', 'villa_urquiza', 'barrio_norte', 'villa_crespo', 'lujoso', 'san_telmo',\n",
    "          'capital_federal', 'impecable', 'interwin', 'properati_url', 'properati_url_clean'], axis = 1, inplace = True)"
   ]
  },
  {
   "cell_type": "code",
   "execution_count": 24,
   "metadata": {},
   "outputs": [
    {
     "name": "stderr",
     "output_type": "stream",
     "text": [
      "C:\\Users\\franf\\anaconda3\\envs\\dhdsblend_37\\lib\\site-packages\\ipykernel_launcher.py:1: SettingWithCopyWarning: \n",
      "A value is trying to be set on a copy of a slice from a DataFrame.\n",
      "Try using .loc[row_indexer,col_indexer] = value instead\n",
      "\n",
      "See the caveats in the documentation: https://pandas.pydata.org/pandas-docs/stable/user_guide/indexing.html#returning-a-view-versus-a-copy\n",
      "  \"\"\"Entry point for launching an IPython kernel.\n",
      "C:\\Users\\franf\\anaconda3\\envs\\dhdsblend_37\\lib\\site-packages\\ipykernel_launcher.py:2: SettingWithCopyWarning: \n",
      "A value is trying to be set on a copy of a slice from a DataFrame.\n",
      "Try using .loc[row_indexer,col_indexer] = value instead\n",
      "\n",
      "See the caveats in the documentation: https://pandas.pydata.org/pandas-docs/stable/user_guide/indexing.html#returning-a-view-versus-a-copy\n",
      "  \n"
     ]
    }
   ],
   "source": [
    "data2['piso'] = data2.piso.apply(lambda x: np.NaN if x > 30 else x)\n",
    "data2['ambientes'] = data2.ambientes.apply(lambda x: np.NaN if x > 6 else x)"
   ]
  },
  {
   "cell_type": "code",
   "execution_count": 25,
   "metadata": {},
   "outputs": [
    {
     "name": "stderr",
     "output_type": "stream",
     "text": [
      "C:\\Users\\franf\\anaconda3\\envs\\dhdsblend_37\\lib\\site-packages\\ipykernel_launcher.py:6: SettingWithCopyWarning: \n",
      "A value is trying to be set on a copy of a slice from a DataFrame.\n",
      "Try using .loc[row_indexer,col_indexer] = value instead\n",
      "\n",
      "See the caveats in the documentation: https://pandas.pydata.org/pandas-docs/stable/user_guide/indexing.html#returning-a-view-versus-a-copy\n",
      "  \n",
      "C:\\Users\\franf\\anaconda3\\envs\\dhdsblend_37\\lib\\site-packages\\pandas\\core\\generic.py:6245: SettingWithCopyWarning: \n",
      "A value is trying to be set on a copy of a slice from a DataFrame\n",
      "\n",
      "See the caveats in the documentation: https://pandas.pydata.org/pandas-docs/stable/user_guide/indexing.html#returning-a-view-versus-a-copy\n",
      "  self._update_inplace(new_data)\n"
     ]
    }
   ],
   "source": [
    "a = data2[data2.tipo_prop == \"apartment\"].piso.fillna(int(data2.piso.mode()))\n",
    "b = data2[data2.tipo_prop != \"apartment\"].piso.fillna(0)\n",
    "\n",
    "piso = a.append(b)\n",
    "\n",
    "data2['piso'] = data2.piso.fillna(piso)\n",
    "\n",
    "data2.ambientes.fillna(int(data2.ambientes.mode()), inplace = True)\n",
    "\n",
    "data2.isnull().sum()\n",
    "\n",
    "data2 = data2[data2.sup_total.notnull()]\n",
    "\n",
    "data = data2[data2.precio_x_m2_usd.notnull()]"
   ]
  },
  {
   "cell_type": "markdown",
   "metadata": {},
   "source": [
    "## Modelado"
   ]
  },
  {
   "cell_type": "markdown",
   "metadata": {},
   "source": [
    "#### Preparación de dummies y categoricas"
   ]
  },
  {
   "cell_type": "code",
   "execution_count": 26,
   "metadata": {},
   "outputs": [],
   "source": [
    "a = pd.get_dummies(data[['tipo_prop', 'barrio']])\n",
    "a.drop(['tipo_prop_apartment', 'barrio_Belgrano'], inplace= True, axis = 1)\n",
    "\n",
    "data = pd.merge(data, a, left_index= True, right_index= True)"
   ]
  },
  {
   "cell_type": "code",
   "execution_count": 27,
   "metadata": {},
   "outputs": [],
   "source": [
    "data.drop(['barrio', 'tipo_prop'], axis = 1, inplace= True)"
   ]
  },
  {
   "cell_type": "code",
   "execution_count": 28,
   "metadata": {},
   "outputs": [],
   "source": [
    "data = data[data.precio_x_m2_usd <= 15000]"
   ]
  },
  {
   "cell_type": "markdown",
   "metadata": {},
   "source": [
    "Separamos el dataset en un segmento de entrenameinto y otro de testeo"
   ]
  },
  {
   "cell_type": "code",
   "execution_count": 29,
   "metadata": {},
   "outputs": [],
   "source": [
    "X = data.drop('precio_x_m2_usd', axis = 1)\n",
    "y = data.precio_x_m2_usd\n",
    "\n",
    "X_train, X_test, y_train, y_test = train_test_split(X, y, shuffle = True)"
   ]
  },
  {
   "cell_type": "code",
   "execution_count": 30,
   "metadata": {},
   "outputs": [
    {
     "name": "stdout",
     "output_type": "stream",
     "text": [
      "(2694, 44)\n",
      "(898, 44)\n"
     ]
    }
   ],
   "source": [
    "print(X_train.shape)\n",
    "print(X_test.shape)"
   ]
  },
  {
   "cell_type": "code",
   "execution_count": 31,
   "metadata": {},
   "outputs": [
    {
     "data": {
      "text/plain": [
       "Index(['piso', 'ambientes', 'sup_total', 'sup_cubierta', 'subtes', 'bicis',\n",
       "       'comisarias', 'balcon', 'garage', 'lavadero', 'luminoso',\n",
       "       'subte_linea_d', 'parrilla', 'subte_linea_b', 'aire_acondicionado',\n",
       "       'piscina', 'subte_linea_a', 'terraza', 'placard', 'toilette', 'suite',\n",
       "       'subte_linea_h', 'sum', 'amenities', 'subte_linea_e', 'baulera',\n",
       "       'gimnasio', 'patio', 'subte_linea_c', 'dependencias', 'vestidor',\n",
       "       'estrenar', 'apto_credito_hipotecario', 'jardin', 'hidromasaje',\n",
       "       'vista', 'sauna', 'losa_radiante', 'doble_circulacion', 'tipo_prop_PH',\n",
       "       'tipo_prop_house', 'tipo_prop_store', 'barrio_Colegiales',\n",
       "       'barrio_Nuñez'],\n",
       "      dtype='object')"
      ]
     },
     "execution_count": 31,
     "metadata": {},
     "output_type": "execute_result"
    }
   ],
   "source": [
    "X.columns"
   ]
  },
  {
   "cell_type": "code",
   "execution_count": 32,
   "metadata": {},
   "outputs": [
    {
     "data": {
      "text/plain": [
       "<AxesSubplot:xlabel='sup_total', ylabel='precio_x_m2_usd'>"
      ]
     },
     "execution_count": 32,
     "metadata": {},
     "output_type": "execute_result"
    },
    {
     "data": {
      "image/png": "[encoded data removed]",
      "text/plain": [
       "<Figure size 432x288 with 1 Axes>"
      ]
     },
     "metadata": {
      "needs_background": "light"
     },
     "output_type": "display_data"
    }
   ],
   "source": [
    "sns.scatterplot(y = y, x = X.sup_total)"
   ]
  },
  {
   "cell_type": "markdown",
   "metadata": {},
   "source": [
    "### Regresión Lineal Multiple"
   ]
  },
  {
   "cell_type": "code",
   "execution_count": 19,
   "metadata": {},
   "outputs": [
    {
     "name": "stdout",
     "output_type": "stream",
     "text": [
      "0.057828473156324445\n"
     ]
    },
    {
     "data": {
      "text/plain": [
       "[(0.0, 7500.0), (0.0, 7500.0)]"
      ]
     },
     "execution_count": 19,
     "metadata": {},
     "output_type": "execute_result"
    },
    {
     "data": {
      "image/png": "[encoded data removed]",
      "text/plain": [
       "<Figure size 432x288 with 1 Axes>"
      ]
     },
     "metadata": {
      "needs_background": "light"
     },
     "output_type": "display_data"
    }
   ],
   "source": [
    "model_lrm = LinearRegression()\n",
    "\n",
    "model_lrm.fit(X_train[['barrio_Colegiales', 'barrio_Nuñez', 'tipo_prop_house', 'tipo_prop_store', 'tipo_prop_PH']], y_train)\n",
    "\n",
    "y_predict = model_lrm.predict(X_test[['barrio_Colegiales', 'barrio_Nuñez', 'tipo_prop_house', 'tipo_prop_store', 'tipo_prop_PH']])\n",
    "\n",
    "print(r2_score(y_test, y_predict))\n",
    "\n",
    "b = sns.scatterplot(x = y_test, y = y_predict)\n",
    "b.set(xlim=(0,7500), ylim = (0, 7500))"
   ]
  },
  {
   "cell_type": "code",
   "execution_count": 20,
   "metadata": {},
   "outputs": [
    {
     "name": "stdout",
     "output_type": "stream",
     "text": [
      "-0.0035221579440558592\n"
     ]
    },
    {
     "data": {
      "text/plain": [
       "[(0.0, 7500.0), (0.0, 7500.0)]"
      ]
     },
     "execution_count": 20,
     "metadata": {},
     "output_type": "execute_result"
    },
    {
     "data": {
      "image/png": "[encoded data removed]",
      "text/plain": [
       "<Figure size 432x288 with 1 Axes>"
      ]
     },
     "metadata": {
      "needs_background": "light"
     },
     "output_type": "display_data"
    }
   ],
   "source": [
    "model_lrm2 = LinearRegression()\n",
    "\n",
    "model_lrm2.fit(X_train[['balcon', 'garage', 'lavadero', 'jardin']], y_train)\n",
    "\n",
    "y_predict = model_lrm2.predict(X_test[['balcon', 'garage', 'lavadero', 'jardin']])\n",
    "\n",
    "print(r2_score(y_test, y_predict))\n",
    "\n",
    "b = sns.scatterplot(x = y_test, y = y_predict)\n",
    "b.set(xlim=(0,7500), ylim = (0, 7500))"
   ]
  },
  {
   "cell_type": "code",
   "execution_count": 33,
   "metadata": {},
   "outputs": [
    {
     "name": "stdout",
     "output_type": "stream",
     "text": [
      "<bound method RegressorMixin.score of LinearRegression()>\n",
      "0.0737505715392549\n"
     ]
    },
    {
     "data": {
      "text/plain": [
       "[(0.0, 7500.0), (0.0, 7500.0)]"
      ]
     },
     "execution_count": 33,
     "metadata": {},
     "output_type": "execute_result"
    },
    {
     "data": {
      "image/png": "[encoded data removed]",
      "text/plain": [
       "<Figure size 432x288 with 1 Axes>"
      ]
     },
     "metadata": {
      "needs_background": "light"
     },
     "output_type": "display_data"
    }
   ],
   "source": [
    "model_lrm = LinearRegression()\n",
    "\n",
    "model_lrm.fit(X_train, y_train)\n",
    "print(model_lrm.score)\n",
    "\n",
    "y_predict = model_lrm.predict(X_test)\n",
    "\n",
    "print(r2_score(y_test, y_predict))\n",
    "\n",
    "b = sns.scatterplot(x = y_test, y = y_predict)\n",
    "b.set(xlim=(0,7500), ylim = (0, 7500))"
   ]
  },
  {
   "cell_type": "markdown",
   "metadata": {},
   "source": [
    "## LASSO"
   ]
  },
  {
   "cell_type": "code",
   "execution_count": 37,
   "metadata": {},
   "outputs": [],
   "source": [
    "X = data.drop('precio_x_m2_usd', axis = 1)\n",
    "y = data.precio_x_m2_usd\n",
    "\n",
    "std = StandardScaler()\n",
    "X_std = X[['piso', 'ambientes', 'sup_total', 'sup_cubierta', 'subtes', 'bicis', 'comisarias']]\n",
    "X_std = std.fit_transform(X_std)\n",
    "\n",
    "X[['piso', 'ambientes', 'sup_total', 'sup_cubierta', 'subtes', 'bicis', 'comisarias']] = X_std\n",
    "\n",
    "X_train, X_test, y_train, y_test = train_test_split(X, y, shuffle = True)"
   ]
  },
  {
   "cell_type": "code",
   "execution_count": 47,
   "metadata": {},
   "outputs": [
    {
     "name": "stdout",
     "output_type": "stream",
     "text": [
      "El score obtenido en el dataset de training fue de: 0.12961280290681587\n",
      "El score obtenido en el dataset de testing fue de: 0.12618456699384828\n",
      "\n"
     ]
    },
    {
     "data": {
      "text/html": [
       "<div>\n",
       "<style scoped>\n",
       "    .dataframe tbody tr th:only-of-type {\n",
       "        vertical-align: middle;\n",
       "    }\n",
       "\n",
       "    .dataframe tbody tr th {\n",
       "        vertical-align: top;\n",
       "    }\n",
       "\n",
       "    .dataframe thead th {\n",
       "        text-align: right;\n",
       "    }\n",
       "</style>\n",
       "<table border=\"1\" class=\"dataframe\">\n",
       "  <thead>\n",
       "    <tr style=\"text-align: right;\">\n",
       "      <th></th>\n",
       "      <th>0</th>\n",
       "    </tr>\n",
       "  </thead>\n",
       "  <tbody>\n",
       "    <tr>\n",
       "      <th>piso</th>\n",
       "      <td>-38.779627</td>\n",
       "    </tr>\n",
       "    <tr>\n",
       "      <th>ambientes</th>\n",
       "      <td>31.736441</td>\n",
       "    </tr>\n",
       "    <tr>\n",
       "      <th>sup_total</th>\n",
       "      <td>-385.845679</td>\n",
       "    </tr>\n",
       "    <tr>\n",
       "      <th>sup_cubierta</th>\n",
       "      <td>483.667709</td>\n",
       "    </tr>\n",
       "    <tr>\n",
       "      <th>subtes</th>\n",
       "      <td>-4.443090</td>\n",
       "    </tr>\n",
       "    <tr>\n",
       "      <th>bicis</th>\n",
       "      <td>-17.862500</td>\n",
       "    </tr>\n",
       "    <tr>\n",
       "      <th>comisarias</th>\n",
       "      <td>-56.793178</td>\n",
       "    </tr>\n",
       "    <tr>\n",
       "      <th>balcon</th>\n",
       "      <td>-219.258516</td>\n",
       "    </tr>\n",
       "    <tr>\n",
       "      <th>garage</th>\n",
       "      <td>0.000000</td>\n",
       "    </tr>\n",
       "    <tr>\n",
       "      <th>lavadero</th>\n",
       "      <td>-85.627183</td>\n",
       "    </tr>\n",
       "    <tr>\n",
       "      <th>luminoso</th>\n",
       "      <td>-0.000000</td>\n",
       "    </tr>\n",
       "    <tr>\n",
       "      <th>subte_linea_d</th>\n",
       "      <td>-282.784213</td>\n",
       "    </tr>\n",
       "    <tr>\n",
       "      <th>parrilla</th>\n",
       "      <td>-123.376468</td>\n",
       "    </tr>\n",
       "    <tr>\n",
       "      <th>subte_linea_b</th>\n",
       "      <td>-284.875711</td>\n",
       "    </tr>\n",
       "    <tr>\n",
       "      <th>aire_acondicionado</th>\n",
       "      <td>-62.407273</td>\n",
       "    </tr>\n",
       "    <tr>\n",
       "      <th>piscina</th>\n",
       "      <td>293.665874</td>\n",
       "    </tr>\n",
       "    <tr>\n",
       "      <th>subte_linea_a</th>\n",
       "      <td>0.000000</td>\n",
       "    </tr>\n",
       "    <tr>\n",
       "      <th>terraza</th>\n",
       "      <td>-0.000000</td>\n",
       "    </tr>\n",
       "    <tr>\n",
       "      <th>placard</th>\n",
       "      <td>105.051579</td>\n",
       "    </tr>\n",
       "    <tr>\n",
       "      <th>toilette</th>\n",
       "      <td>131.076648</td>\n",
       "    </tr>\n",
       "    <tr>\n",
       "      <th>suite</th>\n",
       "      <td>137.854189</td>\n",
       "    </tr>\n",
       "    <tr>\n",
       "      <th>subte_linea_h</th>\n",
       "      <td>-0.000000</td>\n",
       "    </tr>\n",
       "    <tr>\n",
       "      <th>sum</th>\n",
       "      <td>151.533168</td>\n",
       "    </tr>\n",
       "    <tr>\n",
       "      <th>amenities</th>\n",
       "      <td>154.104005</td>\n",
       "    </tr>\n",
       "    <tr>\n",
       "      <th>subte_linea_e</th>\n",
       "      <td>0.000000</td>\n",
       "    </tr>\n",
       "    <tr>\n",
       "      <th>baulera</th>\n",
       "      <td>-87.615535</td>\n",
       "    </tr>\n",
       "    <tr>\n",
       "      <th>gimnasio</th>\n",
       "      <td>0.000000</td>\n",
       "    </tr>\n",
       "    <tr>\n",
       "      <th>patio</th>\n",
       "      <td>-301.786811</td>\n",
       "    </tr>\n",
       "    <tr>\n",
       "      <th>subte_linea_c</th>\n",
       "      <td>0.000000</td>\n",
       "    </tr>\n",
       "    <tr>\n",
       "      <th>dependencias</th>\n",
       "      <td>-56.823940</td>\n",
       "    </tr>\n",
       "    <tr>\n",
       "      <th>vestidor</th>\n",
       "      <td>-39.186173</td>\n",
       "    </tr>\n",
       "    <tr>\n",
       "      <th>estrenar</th>\n",
       "      <td>119.843876</td>\n",
       "    </tr>\n",
       "    <tr>\n",
       "      <th>apto_credito_hipotecario</th>\n",
       "      <td>-219.798438</td>\n",
       "    </tr>\n",
       "    <tr>\n",
       "      <th>jardin</th>\n",
       "      <td>-197.126748</td>\n",
       "    </tr>\n",
       "    <tr>\n",
       "      <th>hidromasaje</th>\n",
       "      <td>429.546262</td>\n",
       "    </tr>\n",
       "    <tr>\n",
       "      <th>vista</th>\n",
       "      <td>508.659181</td>\n",
       "    </tr>\n",
       "    <tr>\n",
       "      <th>sauna</th>\n",
       "      <td>0.000000</td>\n",
       "    </tr>\n",
       "    <tr>\n",
       "      <th>losa_radiante</th>\n",
       "      <td>-67.255057</td>\n",
       "    </tr>\n",
       "    <tr>\n",
       "      <th>doble_circulacion</th>\n",
       "      <td>-271.320269</td>\n",
       "    </tr>\n",
       "    <tr>\n",
       "      <th>tipo_prop_PH</th>\n",
       "      <td>-540.764990</td>\n",
       "    </tr>\n",
       "    <tr>\n",
       "      <th>tipo_prop_house</th>\n",
       "      <td>-932.519032</td>\n",
       "    </tr>\n",
       "    <tr>\n",
       "      <th>tipo_prop_store</th>\n",
       "      <td>258.088006</td>\n",
       "    </tr>\n",
       "    <tr>\n",
       "      <th>barrio_Colegiales</th>\n",
       "      <td>-373.332438</td>\n",
       "    </tr>\n",
       "    <tr>\n",
       "      <th>barrio_Nuñez</th>\n",
       "      <td>2.546423</td>\n",
       "    </tr>\n",
       "  </tbody>\n",
       "</table>\n",
       "</div>"
      ],
      "text/plain": [
       "                                   0\n",
       "piso                      -38.779627\n",
       "ambientes                  31.736441\n",
       "sup_total                -385.845679\n",
       "sup_cubierta              483.667709\n",
       "subtes                     -4.443090\n",
       "bicis                     -17.862500\n",
       "comisarias                -56.793178\n",
       "balcon                   -219.258516\n",
       "garage                      0.000000\n",
       "lavadero                  -85.627183\n",
       "luminoso                   -0.000000\n",
       "subte_linea_d            -282.784213\n",
       "parrilla                 -123.376468\n",
       "subte_linea_b            -284.875711\n",
       "aire_acondicionado        -62.407273\n",
       "piscina                   293.665874\n",
       "subte_linea_a               0.000000\n",
       "terraza                    -0.000000\n",
       "placard                   105.051579\n",
       "toilette                  131.076648\n",
       "suite                     137.854189\n",
       "subte_linea_h              -0.000000\n",
       "sum                       151.533168\n",
       "amenities                 154.104005\n",
       "subte_linea_e               0.000000\n",
       "baulera                   -87.615535\n",
       "gimnasio                    0.000000\n",
       "patio                    -301.786811\n",
       "subte_linea_c               0.000000\n",
       "dependencias              -56.823940\n",
       "vestidor                  -39.186173\n",
       "estrenar                  119.843876\n",
       "apto_credito_hipotecario -219.798438\n",
       "jardin                   -197.126748\n",
       "hidromasaje               429.546262\n",
       "vista                     508.659181\n",
       "sauna                       0.000000\n",
       "losa_radiante             -67.255057\n",
       "doble_circulacion        -271.320269\n",
       "tipo_prop_PH             -540.764990\n",
       "tipo_prop_house          -932.519032\n",
       "tipo_prop_store           258.088006\n",
       "barrio_Colegiales        -373.332438\n",
       "barrio_Nuñez                2.546423"
      ]
     },
     "execution_count": 47,
     "metadata": {},
     "output_type": "execute_result"
    }
   ],
   "source": [
    "model_lasso = LassoCV(cv = 3)\n",
    "\n",
    "\n",
    "model_lasso.fit(X_train, y_train)\n",
    "y_predict = model_lasso.predict(X_test)\n",
    "\n",
    "print(\"El score obtenido en el dataset de training fue de:\", r2_score(y_train, model_lasso.predict(X_train)))\n",
    "print(\"El score obtenido en el dataset de testing fue de:\", r2_score(y_test, y_predict))\n",
    "print()\n",
    "coeficientes = list(model_lasso.coef_)\n",
    "nombre = list(X.columns)\n",
    "\n",
    "coef = pd.DataFrame(coeficientes, index = nombre)\n",
    "coef"
   ]
  }
 ],
 "metadata": {
  "kernelspec": {
   "display_name": "Python 3",
   "language": "python",
   "name": "python3"
  },
  "language_info": {
   "codemirror_mode": {
    "name": "ipython",
    "version": 3
   },
   "file_extension": ".py",
   "mimetype": "text/x-python",
   "name": "python",
   "nbconvert_exporter": "python",
   "pygments_lexer": "ipython3",
   "version": "3.7.8"
  }
 },
 "nbformat": 4,
 "nbformat_minor": 4
}
